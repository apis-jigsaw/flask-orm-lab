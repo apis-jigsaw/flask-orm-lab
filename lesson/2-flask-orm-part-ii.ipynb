{
 "cells": [
  {
   "cell_type": "markdown",
   "id": "311cf9b8-c91d-44c9-b5e4-f9da0dbcd08d",
   "metadata": {},
   "source": [
    "# Flask ORM Part 2"
   ]
  },
  {
   "cell_type": "markdown",
   "id": "e3a961d7-1058-4c54-acc8-73d94cb96fe3",
   "metadata": {},
   "source": [
    "### Introduction"
   ]
  },
  {
   "cell_type": "markdown",
   "id": "53f7f2eb-b683-4dc7-bfee-0c744d38694c",
   "metadata": {},
   "source": [
    "In this lesson, we'll build onto the flask orm lab.  But without the assistance of some prewritten tests."
   ]
  },
  {
   "cell_type": "markdown",
   "id": "1e124d7b-b57e-4b12-8917-59b5165dcd52",
   "metadata": {},
   "source": [
    "### Tasks"
   ]
  },
  {
   "cell_type": "markdown",
   "id": "2054280e-6547-420b-acb5-7517de25debb",
   "metadata": {},
   "source": [
    "So far we have built out resources for the actor and movies resources, now try to perform a similar process for the writers resource.  This time, also try to write tests for the code.\n",
    "\n",
    "* Start at the data layer, this means write tests for being able to initialize a writer instance.  \n",
    "\n",
    "> It's ok to look at other tests for implementing this, but do try to challenge yourself to try to implement without looking at other tests.  Remember the pattern for every test is a setup, and assertion.\n",
    "\n",
    "* Next add the method for relating the movie relation to writers.  First add the related tests, and then get those tests to pass.\n",
    "\n",
    "* Next, add tests to the test_app.py file so that '/writers' returns a set of writers.  For this, you'll *probably have to follow the pattern* in related tests.  Get the test to pass.\n",
    "\n",
    "* In addition, add a `/writers/id` route.  For this route, displaying json on a writer should display the writers information as well as the title of each movie they have written."
   ]
  },
  {
   "cell_type": "markdown",
   "id": "4b185e3e-2ee7-45ed-9b9f-f00ee2bef804",
   "metadata": {},
   "source": [
    "### Add the directors resource"
   ]
  },
  {
   "cell_type": "markdown",
   "id": "a7a8a597-2b4f-41bf-9737-4793d3bfc1d9",
   "metadata": {},
   "source": [
    "Ok, now imagine that building out the directors resource is a sort of project.  This means, do this without guidance.  So just build routes of '`/directors`' and '`/directors/id`'.  Write the corresponding tests, and build relations that relates directors to writers, directors to movies, and directors to actors.  The directors show route (`/directors/id`) should information about the directors, the related movies, as well as each of the movies actors."
   ]
  }
 ],
 "metadata": {
  "kernelspec": {
   "display_name": "Python 3 (ipykernel)",
   "language": "python",
   "name": "python3"
  },
  "language_info": {
   "codemirror_mode": {
    "name": "ipython",
    "version": 3
   },
   "file_extension": ".py",
   "mimetype": "text/x-python",
   "name": "python",
   "nbconvert_exporter": "python",
   "pygments_lexer": "ipython3",
   "version": "3.9.12"
  }
 },
 "nbformat": 4,
 "nbformat_minor": 5
}
